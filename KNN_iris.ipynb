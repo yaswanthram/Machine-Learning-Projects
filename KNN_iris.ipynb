{
 "cells": [
  {
   "cell_type": "code",
   "execution_count": 29,
   "metadata": {},
   "outputs": [],
   "source": [
    "import pandas as pd\n",
    "import math\n",
    "import numpy as np\n",
    "import matplotlib.pyplot as plot\n",
    "import seaborn as sns\n",
    "from sklearn.datasets import load_iris\n",
    "from sklearn.model_selection import train_test_split\n",
    "from sklearn.metrics import accuracy_score\n",
    "from sklearn.neighbors import KNeighborsClassifier"
   ]
  },
  {
   "cell_type": "code",
   "execution_count": 4,
   "metadata": {},
   "outputs": [],
   "source": [
    "df=sns.load_dataset(\"iris\")\n"
   ]
  },
  {
   "cell_type": "code",
   "execution_count": 5,
   "metadata": {},
   "outputs": [
    {
     "data": {
      "text/html": [
       "<div>\n",
       "<style scoped>\n",
       "    .dataframe tbody tr th:only-of-type {\n",
       "        vertical-align: middle;\n",
       "    }\n",
       "\n",
       "    .dataframe tbody tr th {\n",
       "        vertical-align: top;\n",
       "    }\n",
       "\n",
       "    .dataframe thead th {\n",
       "        text-align: right;\n",
       "    }\n",
       "</style>\n",
       "<table border=\"1\" class=\"dataframe\">\n",
       "  <thead>\n",
       "    <tr style=\"text-align: right;\">\n",
       "      <th></th>\n",
       "      <th>sepal_length</th>\n",
       "      <th>sepal_width</th>\n",
       "      <th>petal_length</th>\n",
       "      <th>petal_width</th>\n",
       "      <th>species</th>\n",
       "    </tr>\n",
       "  </thead>\n",
       "  <tbody>\n",
       "    <tr>\n",
       "      <th>0</th>\n",
       "      <td>5.1</td>\n",
       "      <td>3.5</td>\n",
       "      <td>1.4</td>\n",
       "      <td>0.2</td>\n",
       "      <td>setosa</td>\n",
       "    </tr>\n",
       "    <tr>\n",
       "      <th>1</th>\n",
       "      <td>4.9</td>\n",
       "      <td>3.0</td>\n",
       "      <td>1.4</td>\n",
       "      <td>0.2</td>\n",
       "      <td>setosa</td>\n",
       "    </tr>\n",
       "    <tr>\n",
       "      <th>2</th>\n",
       "      <td>4.7</td>\n",
       "      <td>3.2</td>\n",
       "      <td>1.3</td>\n",
       "      <td>0.2</td>\n",
       "      <td>setosa</td>\n",
       "    </tr>\n",
       "    <tr>\n",
       "      <th>3</th>\n",
       "      <td>4.6</td>\n",
       "      <td>3.1</td>\n",
       "      <td>1.5</td>\n",
       "      <td>0.2</td>\n",
       "      <td>setosa</td>\n",
       "    </tr>\n",
       "    <tr>\n",
       "      <th>4</th>\n",
       "      <td>5.0</td>\n",
       "      <td>3.6</td>\n",
       "      <td>1.4</td>\n",
       "      <td>0.2</td>\n",
       "      <td>setosa</td>\n",
       "    </tr>\n",
       "  </tbody>\n",
       "</table>\n",
       "</div>"
      ],
      "text/plain": [
       "   sepal_length  sepal_width  petal_length  petal_width species\n",
       "0           5.1          3.5           1.4          0.2  setosa\n",
       "1           4.9          3.0           1.4          0.2  setosa\n",
       "2           4.7          3.2           1.3          0.2  setosa\n",
       "3           4.6          3.1           1.5          0.2  setosa\n",
       "4           5.0          3.6           1.4          0.2  setosa"
      ]
     },
     "execution_count": 5,
     "metadata": {},
     "output_type": "execute_result"
    }
   ],
   "source": [
    "df.head()"
   ]
  },
  {
   "cell_type": "markdown",
   "metadata": {},
   "source": [
    "# \n",
    "3.a.Function for calculating distances (Euclidean and Manhattan)"
   ]
  },
  {
   "cell_type": "code",
   "execution_count": 14,
   "metadata": {},
   "outputs": [],
   "source": [
    "#euclidean distance\n",
    "def euclidean(x_train,x_test,y_train,kn):\n",
    "    y_pred=[]\n",
    "    for i in x_test:\n",
    "        dist=[]\n",
    "        m=0\n",
    "        for j in x_train:\n",
    "            s=0\n",
    "            for k in range(len(j)):\n",
    "                s+=(pow(i[k]-j[k],2))\n",
    "            dist.append((math.sqrt(s),m))\n",
    "            m+=1\n",
    "        dist.sort(key=lambda x:x[0])\n",
    "        d={}\n",
    "        for l in range(kn):\n",
    "            if(y_train[dist[l][1]][0] not in d):\n",
    "                d[y_train[dist[l][1]][0]]=1\n",
    "            else:\n",
    "                d[y_train[dist[l][1]][0]]+=1\n",
    "         #print(d,max(d.values()))\n",
    "        for l in d:\n",
    "            if(d[l]==max(d.values())):\n",
    "                y_pred.append(l)\n",
    "                break\n",
    "    return y_pred"
   ]
  },
  {
   "cell_type": "code",
   "execution_count": 15,
   "metadata": {},
   "outputs": [],
   "source": [
    "#Manhatten distance\n",
    "def manhattan(x_train,x_test,y_train,kn):\n",
    "    y_pred=[]\n",
    "    for i in x_test:\n",
    "        dist=[]\n",
    "        m=0\n",
    "        for j in x_train:\n",
    "            s=0\n",
    "            for k in range(len(j)):\n",
    "                s+=abs(i[k]-j[k])\n",
    "            dist.append((s,m))\n",
    "            m+=1\n",
    "        dist.sort(key=lambda x:x[0])\n",
    "        d={}\n",
    "        for l in range(kn):\n",
    "            if(y_train[dist[l][1]][0] not in d):\n",
    "                d[y_train[dist[l][1]][0]]=1\n",
    "            else:\n",
    "                d[y_train[dist[l][1]][0]]+=1\n",
    "     #print(d,max(d.values()))\n",
    "        for l in d:\n",
    "            if(d[l]==max(d.values())):\n",
    "                y_pred.append(l)\n",
    "                break\n",
    "    return y_pred"
   ]
  },
  {
   "cell_type": "code",
   "execution_count": 27,
   "metadata": {},
   "outputs": [],
   "source": [
    "def KNN(df):\n",
    "    X=df[['sepal_length', 'sepal_width', 'petal_length', 'petal_width']].values\n",
    "    Y=df[['species']].values\n",
    "     \n",
    "    \n",
    "     #80:20 Split of DataSet\n",
    "    \n",
    "    x_train,x_test,y_train,y_test=train_test_split(X,Y,test_size=.20)\n",
    "    data=[]\n",
    "     \n",
    "      #Repeating For various K values\n",
    "     \n",
    "    for i in range(2,int(math.sqrt(df.shape[0]))):\n",
    "        y_pred_e=euclidean(x_train,x_test,y_train,i)\n",
    "        y_pred_m=manhattan(x_train,x_test,y_train,i)\n",
    "        u=[i,accuracy_score(y_test,y_pred_e),accuracy_score(y_test,y_pred_m)]\n",
    "        data.append(u)\n",
    "    Dist_Accuracy=pd.DataFrame(data,columns=['K_Value', 'Euclidean_Accuracy', 'Manhattan_Accuracy'])\n",
    "    data=[]\n",
    " \n",
    "    \n",
    "    #Repeating For various K values using Inbuilt packages-scikitlearn\n",
    "    \n",
    "    for i in range(2,int(math.sqrt(df.shape[0]))):\n",
    "        knn=KNeighborsClassifier(n_neighbors=i)\n",
    "        knn.fit(x_train,y_train)\n",
    "        y_pred=knn.predict(x_test)\n",
    "        u=[i,accuracy_score(y_test,y_pred)]\n",
    "        data.append(u)\n",
    "    Inbuilt_Accuracy=pd.DataFrame(data,columns=['K_Value', 'InbuiltFunction_Accuracy'])\n",
    "    return Dist_Accuracy,Inbuilt_Accuracy\n"
   ]
  },
  {
   "cell_type": "code",
   "execution_count": 28,
   "metadata": {},
   "outputs": [
    {
     "name": "stderr",
     "output_type": "stream",
     "text": [
      "<ipython-input-27-2f4e493c3b39>:26: DataConversionWarning: A column-vector y was passed when a 1d array was expected. Please change the shape of y to (n_samples, ), for example using ravel().\n",
      "  knn.fit(x_train,y_train)\n",
      "<ipython-input-27-2f4e493c3b39>:26: DataConversionWarning: A column-vector y was passed when a 1d array was expected. Please change the shape of y to (n_samples, ), for example using ravel().\n",
      "  knn.fit(x_train,y_train)\n",
      "<ipython-input-27-2f4e493c3b39>:26: DataConversionWarning: A column-vector y was passed when a 1d array was expected. Please change the shape of y to (n_samples, ), for example using ravel().\n",
      "  knn.fit(x_train,y_train)\n",
      "<ipython-input-27-2f4e493c3b39>:26: DataConversionWarning: A column-vector y was passed when a 1d array was expected. Please change the shape of y to (n_samples, ), for example using ravel().\n",
      "  knn.fit(x_train,y_train)\n",
      "<ipython-input-27-2f4e493c3b39>:26: DataConversionWarning: A column-vector y was passed when a 1d array was expected. Please change the shape of y to (n_samples, ), for example using ravel().\n",
      "  knn.fit(x_train,y_train)\n",
      "<ipython-input-27-2f4e493c3b39>:26: DataConversionWarning: A column-vector y was passed when a 1d array was expected. Please change the shape of y to (n_samples, ), for example using ravel().\n",
      "  knn.fit(x_train,y_train)\n",
      "<ipython-input-27-2f4e493c3b39>:26: DataConversionWarning: A column-vector y was passed when a 1d array was expected. Please change the shape of y to (n_samples, ), for example using ravel().\n",
      "  knn.fit(x_train,y_train)\n",
      "<ipython-input-27-2f4e493c3b39>:26: DataConversionWarning: A column-vector y was passed when a 1d array was expected. Please change the shape of y to (n_samples, ), for example using ravel().\n",
      "  knn.fit(x_train,y_train)\n",
      "<ipython-input-27-2f4e493c3b39>:26: DataConversionWarning: A column-vector y was passed when a 1d array was expected. Please change the shape of y to (n_samples, ), for example using ravel().\n",
      "  knn.fit(x_train,y_train)\n",
      "<ipython-input-27-2f4e493c3b39>:26: DataConversionWarning: A column-vector y was passed when a 1d array was expected. Please change the shape of y to (n_samples, ), for example using ravel().\n",
      "  knn.fit(x_train,y_train)\n"
     ]
    }
   ],
   "source": [
    "Dist_Accuracy,Inbuilt_Accuracy=KNN(df)"
   ]
  },
  {
   "cell_type": "markdown",
   "metadata": {},
   "source": [
    "accuracy"
   ]
  },
  {
   "cell_type": "code",
   "execution_count": 30,
   "metadata": {},
   "outputs": [
    {
     "data": {
      "text/html": [
       "<div>\n",
       "<style scoped>\n",
       "    .dataframe tbody tr th:only-of-type {\n",
       "        vertical-align: middle;\n",
       "    }\n",
       "\n",
       "    .dataframe tbody tr th {\n",
       "        vertical-align: top;\n",
       "    }\n",
       "\n",
       "    .dataframe thead th {\n",
       "        text-align: right;\n",
       "    }\n",
       "</style>\n",
       "<table border=\"1\" class=\"dataframe\">\n",
       "  <thead>\n",
       "    <tr style=\"text-align: right;\">\n",
       "      <th></th>\n",
       "      <th>K_Value</th>\n",
       "      <th>Euclidean_Accuracy</th>\n",
       "      <th>Manhattan_Accuracy</th>\n",
       "    </tr>\n",
       "  </thead>\n",
       "  <tbody>\n",
       "    <tr>\n",
       "      <th>0</th>\n",
       "      <td>2</td>\n",
       "      <td>0.933333</td>\n",
       "      <td>0.900000</td>\n",
       "    </tr>\n",
       "    <tr>\n",
       "      <th>1</th>\n",
       "      <td>3</td>\n",
       "      <td>0.933333</td>\n",
       "      <td>0.933333</td>\n",
       "    </tr>\n",
       "    <tr>\n",
       "      <th>2</th>\n",
       "      <td>4</td>\n",
       "      <td>0.933333</td>\n",
       "      <td>0.933333</td>\n",
       "    </tr>\n",
       "    <tr>\n",
       "      <th>3</th>\n",
       "      <td>5</td>\n",
       "      <td>0.933333</td>\n",
       "      <td>0.966667</td>\n",
       "    </tr>\n",
       "    <tr>\n",
       "      <th>4</th>\n",
       "      <td>6</td>\n",
       "      <td>0.966667</td>\n",
       "      <td>0.966667</td>\n",
       "    </tr>\n",
       "    <tr>\n",
       "      <th>5</th>\n",
       "      <td>7</td>\n",
       "      <td>0.933333</td>\n",
       "      <td>0.933333</td>\n",
       "    </tr>\n",
       "    <tr>\n",
       "      <th>6</th>\n",
       "      <td>8</td>\n",
       "      <td>0.966667</td>\n",
       "      <td>0.900000</td>\n",
       "    </tr>\n",
       "    <tr>\n",
       "      <th>7</th>\n",
       "      <td>9</td>\n",
       "      <td>0.933333</td>\n",
       "      <td>0.900000</td>\n",
       "    </tr>\n",
       "    <tr>\n",
       "      <th>8</th>\n",
       "      <td>10</td>\n",
       "      <td>0.900000</td>\n",
       "      <td>0.900000</td>\n",
       "    </tr>\n",
       "    <tr>\n",
       "      <th>9</th>\n",
       "      <td>11</td>\n",
       "      <td>0.933333</td>\n",
       "      <td>0.900000</td>\n",
       "    </tr>\n",
       "  </tbody>\n",
       "</table>\n",
       "</div>"
      ],
      "text/plain": [
       "   K_Value  Euclidean_Accuracy  Manhattan_Accuracy\n",
       "0        2            0.933333            0.900000\n",
       "1        3            0.933333            0.933333\n",
       "2        4            0.933333            0.933333\n",
       "3        5            0.933333            0.966667\n",
       "4        6            0.966667            0.966667\n",
       "5        7            0.933333            0.933333\n",
       "6        8            0.966667            0.900000\n",
       "7        9            0.933333            0.900000\n",
       "8       10            0.900000            0.900000\n",
       "9       11            0.933333            0.900000"
      ]
     },
     "execution_count": 30,
     "metadata": {},
     "output_type": "execute_result"
    }
   ],
   "source": [
    "Dist_Accuracy"
   ]
  },
  {
   "cell_type": "markdown",
   "metadata": {},
   "source": [
    "graphs"
   ]
  },
  {
   "cell_type": "code",
   "execution_count": 32,
   "metadata": {},
   "outputs": [
    {
     "data": {
      "text/plain": [
       "<AxesSubplot:xlabel='K_Value'>"
      ]
     },
     "execution_count": 32,
     "metadata": {},
     "output_type": "execute_result"
    },
    {
     "data": {
      "image/png": "[encoded data removed]",
      "text/plain": [
       "<Figure size 432x288 with 1 Axes>"
      ]
     },
     "metadata": {
      "needs_background": "light"
     },
     "output_type": "display_data"
    }
   ],
   "source": [
    "Dist_Accuracy.plot.bar(x='K_Value',y=['Euclidean_Accuracy','Manhattan_Accuracy'],rot=0)"
   ]
  },
  {
   "cell_type": "code",
   "execution_count": null,
   "metadata": {},
   "outputs": [],
   "source": []
  },
  {
   "cell_type": "code",
   "execution_count": null,
   "metadata": {},
   "outputs": [],
   "source": []
  }
 ],
 "metadata": {
  "kernelspec": {
   "display_name": "Python 3",
   "language": "python",
   "name": "python3"
  },
  "language_info": {
   "codemirror_mode": {
    "name": "ipython",
    "version": 3
   },
   "file_extension": ".py",
   "mimetype": "text/x-python",
   "name": "python",
   "nbconvert_exporter": "python",
   "pygments_lexer": "ipython3",
   "version": "3.8.5"
  }
 },
 "nbformat": 4,
 "nbformat_minor": 4
}
