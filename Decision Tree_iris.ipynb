{
 "cells": [
  {
   "cell_type": "code",
   "execution_count": 1,
   "metadata": {
    "id": "xv6V080G3Imb"
   },
   "outputs": [],
   "source": [
    "import numpy as np\n",
    "import pandas as pd\n",
    "from sklearn import datasets\n",
    "from sklearn.model_selection import train_test_split\n",
    "from sklearn import tree\n",
    "import re"
   ]
  },
  {
   "cell_type": "code",
   "execution_count": 2,
   "metadata": {
    "colab": {
     "base_uri": "https://localhost:8080/",
     "height": 199
    },
    "id": "BYyIKOpa4RZE",
    "outputId": "4aa031a8-2c4b-47b7-d347-1d861c2b7a94"
   },
   "outputs": [
    {
     "data": {
      "text/html": [
       "<div>\n",
       "<style scoped>\n",
       "    .dataframe tbody tr th:only-of-type {\n",
       "        vertical-align: middle;\n",
       "    }\n",
       "\n",
       "    .dataframe tbody tr th {\n",
       "        vertical-align: top;\n",
       "    }\n",
       "\n",
       "    .dataframe thead th {\n",
       "        text-align: right;\n",
       "    }\n",
       "</style>\n",
       "<table border=\"1\" class=\"dataframe\">\n",
       "  <thead>\n",
       "    <tr style=\"text-align: right;\">\n",
       "      <th></th>\n",
       "      <th>sepal length (cm)</th>\n",
       "      <th>sepal width (cm)</th>\n",
       "      <th>petal length (cm)</th>\n",
       "      <th>petal width (cm)</th>\n",
       "      <th>species</th>\n",
       "    </tr>\n",
       "  </thead>\n",
       "  <tbody>\n",
       "    <tr>\n",
       "      <th>0</th>\n",
       "      <td>5.1</td>\n",
       "      <td>3.5</td>\n",
       "      <td>1.4</td>\n",
       "      <td>0.2</td>\n",
       "      <td>setosa</td>\n",
       "    </tr>\n",
       "    <tr>\n",
       "      <th>1</th>\n",
       "      <td>4.9</td>\n",
       "      <td>3.0</td>\n",
       "      <td>1.4</td>\n",
       "      <td>0.2</td>\n",
       "      <td>setosa</td>\n",
       "    </tr>\n",
       "    <tr>\n",
       "      <th>2</th>\n",
       "      <td>4.7</td>\n",
       "      <td>3.2</td>\n",
       "      <td>1.3</td>\n",
       "      <td>0.2</td>\n",
       "      <td>setosa</td>\n",
       "    </tr>\n",
       "    <tr>\n",
       "      <th>3</th>\n",
       "      <td>4.6</td>\n",
       "      <td>3.1</td>\n",
       "      <td>1.5</td>\n",
       "      <td>0.2</td>\n",
       "      <td>setosa</td>\n",
       "    </tr>\n",
       "    <tr>\n",
       "      <th>4</th>\n",
       "      <td>5.0</td>\n",
       "      <td>3.6</td>\n",
       "      <td>1.4</td>\n",
       "      <td>0.2</td>\n",
       "      <td>setosa</td>\n",
       "    </tr>\n",
       "  </tbody>\n",
       "</table>\n",
       "</div>"
      ],
      "text/plain": [
       "   sepal length (cm)  sepal width (cm)  petal length (cm)  petal width (cm)  \\\n",
       "0                5.1               3.5                1.4               0.2   \n",
       "1                4.9               3.0                1.4               0.2   \n",
       "2                4.7               3.2                1.3               0.2   \n",
       "3                4.6               3.1                1.5               0.2   \n",
       "4                5.0               3.6                1.4               0.2   \n",
       "\n",
       "  species  \n",
       "0  setosa  \n",
       "1  setosa  \n",
       "2  setosa  \n",
       "3  setosa  \n",
       "4  setosa  "
      ]
     },
     "execution_count": 2,
     "metadata": {},
     "output_type": "execute_result"
    }
   ],
   "source": [
    "data = datasets.load_iris()\n",
    "df = pd.DataFrame(data.data, columns=data.feature_names)\n",
    "df.head()\n",
    "target= data['target']\n",
    "target_names = data['target_names']\n",
    "mapper = dict( (i,target_names[i]) for i in range(3))\n",
    "#mapp values in target to named classes\n",
    "target_series = pd.Series([(lambda x:mapper[x])(i) for i in target])\n",
    "df['species'] = target_series\n",
    "df.head()\n",
    "# matching of data and target cols "
   ]
  },
  {
   "cell_type": "code",
   "execution_count": 3,
   "metadata": {
    "colab": {
     "base_uri": "https://localhost:8080/"
    },
    "id": "IHKxbSGw4Z9W",
    "outputId": "882e5374-1c33-479d-b51e-66a20133c9fc"
   },
   "outputs": [
    {
     "name": "stdout",
     "output_type": "stream",
     "text": [
      "30\n"
     ]
    },
    {
     "data": {
      "text/plain": [
       "120"
      ]
     },
     "execution_count": 3,
     "metadata": {},
     "output_type": "execute_result"
    }
   ],
   "source": [
    "train, test = train_test_split(df,test_size=0.20)# 20% test\n",
    "print(len(test))\n",
    "len(train)"
   ]
  },
  {
   "cell_type": "markdown",
   "metadata": {
    "id": "QxLSA_N3JQ6R"
   },
   "source": [
    "## Q3 a,b,c"
   ]
  },
  {
   "cell_type": "code",
   "execution_count": 4,
   "metadata": {
    "id": "eV7U0AW36T-H"
   },
   "outputs": [],
   "source": [
    "def entropy(samples):\n",
    "    if len(samples) < 2:\n",
    "        return 0\n",
    "    \n",
    "    freq = np.array(samples.value_counts(normalize=True))\n",
    "    return -(freq * np.log2(freq + 1e-6)).sum()\n",
    "\n",
    "def information_gain (samples,target, attribute):\n",
    "    values = samples[attribute].value_counts(normalize=True)\n",
    "    split_entropy = 0\n",
    "    for v,fr in values.iteritems():\n",
    "        sub_ent = entropy(samples[samples[attribute] == v][target])\n",
    "        split_entropy += fr * sub_ent\n",
    "    ent = entropy(samples[target])\n",
    "\n",
    "    return ent - split_entropy\n",
    "\n",
    "def averaged_array(array):\n",
    "    return array\n"
   ]
  },
  {
   "cell_type": "code",
   "execution_count": 5,
   "metadata": {
    "colab": {
     "base_uri": "https://localhost:8080/"
    },
    "id": "e_R0hR9A6qoN",
    "outputId": "4152488c-82cc-457a-8bca-462c51735bc5"
   },
   "outputs": [
    {
     "name": "stdout",
     "output_type": "stream",
     "text": [
      "('petal length (cm) > 1.9', True)\n",
      "('petal length (cm) > 4.7', False)\n",
      "('sepal length (cm) > 4.9', True)\n",
      "versicolor\n",
      "('sepal length (cm) > 4.9', False)\n",
      "virginica\n",
      "('petal length (cm) > 4.7', True)\n",
      "('petal length (cm) > 5.1', True)\n",
      "virginica\n",
      "('petal length (cm) > 5.1', False)\n",
      "('petal width (cm) > 1.6', True)\n",
      "('sepal width (cm) > 3.1', False)\n",
      "virginica\n",
      "('sepal width (cm) > 3.1', True)\n",
      "versicolor\n",
      "('petal width (cm) > 1.6', False)\n",
      "('sepal length (cm) > 6.3', True)\n",
      "versicolor\n",
      "('sepal length (cm) > 6.3', False)\n",
      "('petal width (cm) > 1.5', True)\n",
      "versicolor\n",
      "('petal width (cm) > 1.5', False)\n",
      "virginica\n",
      "('petal length (cm) > 1.9', False)\n",
      "setosa\n"
     ]
    }
   ],
   "source": [
    "class tree_node:\n",
    "\n",
    "    def __init__(self,samples,target):\n",
    "        self.decsion = None\n",
    "        self.samples = samples\n",
    "        self.target = target\n",
    "        self.split_attribute = None\n",
    "        self.children = None\n",
    "        self.parent = None\n",
    "\n",
    "    def make(self):\n",
    "        target = self.target\n",
    "        samples = self.samples\n",
    "        #if no samples, something has gone very wrong\n",
    "        if len(samples)  == 0:\n",
    "            print(\"?\")\n",
    "            self.decsion = \"Zero sam\"\n",
    "        #if samples are of one kind, make decsion to be of teh sample kind\n",
    "        elif (len(samples[target].unique()) == 1):\n",
    "            self.decsion = samples[target].unique()[0]\n",
    "            print(self.decsion)\n",
    "            return\n",
    "        #if samples are mixed, then...\n",
    "        else:\n",
    "\n",
    "            best_info_gain = 0\n",
    "            revised_samples = pd.DataFrame()\n",
    "\n",
    "            #create a data frame that comapres teh values of each column of irsi in boolean form\n",
    "            # this is teh part that makes things slow\n",
    "            for attribute in samples.keys():\n",
    "                if attribute == target:\n",
    "                    continue  \n",
    "                #find all unqiue values of teh attribute\n",
    "                unique_values = samples[attribute].sort_values().unique()\n",
    "                #avagere array\n",
    "                unique_values = averaged_array(unique_values)\n",
    "                for divider in unique_values:\n",
    "                #check if value is greater than divider value and make nwew columnregarding this\n",
    "                    name = attribute +\" > \" + str(divider)\n",
    "                    revised_samples[name] = samples[attribute] >  divider\n",
    "\n",
    "            revised_samples[target] = samples[target]\n",
    "\n",
    "            # then from this revised df just pick out columns with bets information gain\n",
    "            for attribute in revised_samples.keys():\n",
    "                if attribute == target:\n",
    "                    continue               \n",
    "                \n",
    "                info_gain = information_gain(revised_samples,target,attribute)\n",
    "                #print(\"Information Gain at {}: {:.2f}\".format(attribute,info_gain))\n",
    "                if info_gain > best_info_gain:\n",
    "                    best_info_gain = info_gain\n",
    "                    self.split_attribute = attribute\n",
    "            #print(\"Spliting by: {} Info Gain: {:.2f}\".format(self.split_attribute,best_info_gain))\n",
    "\n",
    "            self.children = {}\n",
    "            #then set value and make the child nodes\n",
    "            for value in revised_samples[self.split_attribute].unique():\n",
    "                index = revised_samples[self.split_attribute] == value\n",
    "                \n",
    "                print((self.split_attribute,value))\n",
    "                self.children[value] = tree_node(samples[index],target)\n",
    "                self.children[value].make()\n",
    "            \n",
    "    #basic print desion logic to get to a result\n",
    "    def print(self,prefix=''):\n",
    "        if self.split_attribute is not None:\n",
    "            for k,v in self.children.items():\n",
    "                v.print(\"{} If {} is ({}) and\".format(prefix,self.split_attribute, k))\n",
    "        else:\n",
    "            final = re.sub(\"and$\",\"\",prefix)\n",
    "            print(\"{}, Then flower is: {}\".format(final,self.decsion))\n",
    "\n",
    "\n",
    "    def predict(self,sample):\n",
    "        if self.decsion is not None:\n",
    "            return self.decsion\n",
    "        else:\n",
    "            #split spit_attirbute to actual cloumn name and value\n",
    "            split_attribute = self.split_attribute\n",
    "            column,value = re.split(\" > \",split_attribute)\n",
    "\n",
    "            value = float(value)\n",
    "            \n",
    "            #check value comap[rd to split value , then set child to crrect one\n",
    "            child = self.children[float(sample[column]) > value]\n",
    "            return child.predict(sample)\n",
    "\n",
    "\n",
    "class ID3_tree:\n",
    "    def __init__(self):\n",
    "        self.root = None\n",
    "    def fit (self,samples,target):\n",
    "        self.root = tree_node(samples, target)\n",
    "        self.root.make()\n",
    "\n",
    "\n",
    "t = ID3_tree()\n",
    "t.fit(train,'species')\n"
   ]
  },
  {
   "cell_type": "markdown",
   "metadata": {
    "id": "LpFumbM4Tlkf"
   },
   "source": [
    "## tree formed"
   ]
  },
  {
   "cell_type": "code",
   "execution_count": 6,
   "metadata": {
    "colab": {
     "base_uri": "https://localhost:8080/"
    },
    "id": "N1CdJ0dSTeZA",
    "outputId": "0b831706-b4f1-43e2-a7b8-d4d85b970412"
   },
   "outputs": [
    {
     "name": "stdout",
     "output_type": "stream",
     "text": [
      " If petal length (cm) > 1.9 is (True) and If petal length (cm) > 4.7 is (False) and If sepal length (cm) > 4.9 is (True) , Then flower is: versicolor\n",
      " If petal length (cm) > 1.9 is (True) and If petal length (cm) > 4.7 is (False) and If sepal length (cm) > 4.9 is (False) , Then flower is: virginica\n",
      " If petal length (cm) > 1.9 is (True) and If petal length (cm) > 4.7 is (True) and If petal length (cm) > 5.1 is (True) , Then flower is: virginica\n",
      " If petal length (cm) > 1.9 is (True) and If petal length (cm) > 4.7 is (True) and If petal length (cm) > 5.1 is (False) and If petal width (cm) > 1.6 is (True) and If sepal width (cm) > 3.1 is (False) , Then flower is: virginica\n",
      " If petal length (cm) > 1.9 is (True) and If petal length (cm) > 4.7 is (True) and If petal length (cm) > 5.1 is (False) and If petal width (cm) > 1.6 is (True) and If sepal width (cm) > 3.1 is (True) , Then flower is: versicolor\n",
      " If petal length (cm) > 1.9 is (True) and If petal length (cm) > 4.7 is (True) and If petal length (cm) > 5.1 is (False) and If petal width (cm) > 1.6 is (False) and If sepal length (cm) > 6.3 is (True) , Then flower is: versicolor\n",
      " If petal length (cm) > 1.9 is (True) and If petal length (cm) > 4.7 is (True) and If petal length (cm) > 5.1 is (False) and If petal width (cm) > 1.6 is (False) and If sepal length (cm) > 6.3 is (False) and If petal width (cm) > 1.5 is (True) , Then flower is: versicolor\n",
      " If petal length (cm) > 1.9 is (True) and If petal length (cm) > 4.7 is (True) and If petal length (cm) > 5.1 is (False) and If petal width (cm) > 1.6 is (False) and If sepal length (cm) > 6.3 is (False) and If petal width (cm) > 1.5 is (False) , Then flower is: virginica\n",
      " If petal length (cm) > 1.9 is (False) , Then flower is: setosa\n"
     ]
    }
   ],
   "source": [
    "t.root.print()"
   ]
  },
  {
   "cell_type": "markdown",
   "metadata": {
    "id": "c5Lydk8VTox2"
   },
   "source": [
    "## Test value and accuracy for ID3 scracth algo"
   ]
  },
  {
   "cell_type": "code",
   "execution_count": 7,
   "metadata": {
    "colab": {
     "base_uri": "https://localhost:8080/"
    },
    "id": "zvJaOcKWxlYx",
    "outputId": "04f4d9c7-4168-4bcf-f1a3-7b1a19b30cc4"
   },
   "outputs": [
    {
     "name": "stdout",
     "output_type": "stream",
     "text": [
      "sepal length (cm)    7.7\n",
      "sepal width (cm)     2.6\n",
      "petal length (cm)    6.9\n",
      "petal width (cm)     2.3\n",
      "Name: 118, dtype: object\n",
      "Predicted: virginica | Actual: virginica\n",
      "sepal length (cm)    7.7\n",
      "sepal width (cm)     3.8\n",
      "petal length (cm)    6.7\n",
      "petal width (cm)     2.2\n",
      "Name: 117, dtype: object\n",
      "Predicted: virginica | Actual: virginica\n",
      "sepal length (cm)    6.7\n",
      "sepal width (cm)     3.1\n",
      "petal length (cm)    5.6\n",
      "petal width (cm)     2.4\n",
      "Name: 140, dtype: object\n",
      "Predicted: virginica | Actual: virginica\n",
      "sepal length (cm)    6.7\n",
      "sepal width (cm)     3.1\n",
      "petal length (cm)    4.7\n",
      "petal width (cm)     1.5\n",
      "Name: 86, dtype: object\n",
      "Predicted: versicolor | Actual: versicolor\n",
      "sepal length (cm)    6.1\n",
      "sepal width (cm)       3\n",
      "petal length (cm)    4.6\n",
      "petal width (cm)     1.4\n",
      "Name: 91, dtype: object\n",
      "Predicted: versicolor | Actual: versicolor\n",
      "sepal length (cm)    6.9\n",
      "sepal width (cm)     3.1\n",
      "petal length (cm)    5.4\n",
      "petal width (cm)     2.1\n",
      "Name: 139, dtype: object\n",
      "Predicted: virginica | Actual: virginica\n",
      "sepal length (cm)    5.1\n",
      "sepal width (cm)     2.5\n",
      "petal length (cm)      3\n",
      "petal width (cm)     1.1\n",
      "Name: 98, dtype: object\n",
      "Predicted: versicolor | Actual: versicolor\n",
      "sepal length (cm)    5.8\n",
      "sepal width (cm)     2.6\n",
      "petal length (cm)      4\n",
      "petal width (cm)     1.2\n",
      "Name: 92, dtype: object\n",
      "Predicted: versicolor | Actual: versicolor\n",
      "sepal length (cm)    6.4\n",
      "sepal width (cm)     2.7\n",
      "petal length (cm)    5.3\n",
      "petal width (cm)     1.9\n",
      "Name: 111, dtype: object\n",
      "Predicted: virginica | Actual: virginica\n",
      "sepal length (cm)    4.8\n",
      "sepal width (cm)     3.4\n",
      "petal length (cm)    1.9\n",
      "petal width (cm)     0.2\n",
      "Name: 24, dtype: object\n",
      "Predicted: setosa | Actual: setosa\n",
      "sepal length (cm)      5\n",
      "sepal width (cm)     3.4\n",
      "petal length (cm)    1.5\n",
      "petal width (cm)     0.2\n",
      "Name: 7, dtype: object\n",
      "Predicted: setosa | Actual: setosa\n",
      "sepal length (cm)    5.5\n",
      "sepal width (cm)     4.2\n",
      "petal length (cm)    1.4\n",
      "petal width (cm)     0.2\n",
      "Name: 33, dtype: object\n",
      "Predicted: setosa | Actual: setosa\n",
      "sepal length (cm)    4.6\n",
      "sepal width (cm)     3.2\n",
      "petal length (cm)    1.4\n",
      "petal width (cm)     0.2\n",
      "Name: 47, dtype: object\n",
      "Predicted: setosa | Actual: setosa\n",
      "sepal length (cm)    4.3\n",
      "sepal width (cm)       3\n",
      "petal length (cm)    1.1\n",
      "petal width (cm)     0.1\n",
      "Name: 13, dtype: object\n",
      "Predicted: setosa | Actual: setosa\n",
      "sepal length (cm)    4.9\n",
      "sepal width (cm)     3.1\n",
      "petal length (cm)    1.5\n",
      "petal width (cm)     0.2\n",
      "Name: 34, dtype: object\n",
      "Predicted: setosa | Actual: setosa\n",
      "sepal length (cm)    7.2\n",
      "sepal width (cm)     3.6\n",
      "petal length (cm)    6.1\n",
      "petal width (cm)     2.5\n",
      "Name: 109, dtype: object\n",
      "Predicted: virginica | Actual: virginica\n",
      "sepal length (cm)    5.1\n",
      "sepal width (cm)     3.4\n",
      "petal length (cm)    1.5\n",
      "petal width (cm)     0.2\n",
      "Name: 39, dtype: object\n",
      "Predicted: setosa | Actual: setosa\n",
      "sepal length (cm)      6\n",
      "sepal width (cm)     2.9\n",
      "petal length (cm)    4.5\n",
      "petal width (cm)     1.5\n",
      "Name: 78, dtype: object\n",
      "Predicted: versicolor | Actual: versicolor\n",
      "sepal length (cm)    5.1\n",
      "sepal width (cm)     3.7\n",
      "petal length (cm)    1.5\n",
      "petal width (cm)     0.4\n",
      "Name: 21, dtype: object\n",
      "Predicted: setosa | Actual: setosa\n",
      "sepal length (cm)    4.4\n",
      "sepal width (cm)     3.2\n",
      "petal length (cm)    1.3\n",
      "petal width (cm)     0.2\n",
      "Name: 42, dtype: object\n",
      "Predicted: setosa | Actual: setosa\n",
      "sepal length (cm)    6.7\n",
      "sepal width (cm)     3.3\n",
      "petal length (cm)    5.7\n",
      "petal width (cm)     2.1\n",
      "Name: 124, dtype: object\n",
      "Predicted: virginica | Actual: virginica\n",
      "sepal length (cm)    5.5\n",
      "sepal width (cm)     3.5\n",
      "petal length (cm)    1.3\n",
      "petal width (cm)     0.2\n",
      "Name: 36, dtype: object\n",
      "Predicted: setosa | Actual: setosa\n",
      "sepal length (cm)    5.8\n",
      "sepal width (cm)     2.8\n",
      "petal length (cm)    5.1\n",
      "petal width (cm)     2.4\n",
      "Name: 114, dtype: object\n",
      "Predicted: virginica | Actual: virginica\n",
      "sepal length (cm)    7.2\n",
      "sepal width (cm)     3.2\n",
      "petal length (cm)      6\n",
      "petal width (cm)     1.8\n",
      "Name: 125, dtype: object\n",
      "Predicted: virginica | Actual: virginica\n",
      "sepal length (cm)    6.1\n",
      "sepal width (cm)     2.9\n",
      "petal length (cm)    4.7\n",
      "petal width (cm)     1.4\n",
      "Name: 63, dtype: object\n",
      "Predicted: versicolor | Actual: versicolor\n",
      "sepal length (cm)    5.8\n",
      "sepal width (cm)       4\n",
      "petal length (cm)    1.2\n",
      "petal width (cm)     0.2\n",
      "Name: 14, dtype: object\n",
      "Predicted: setosa | Actual: setosa\n"
     ]
    },
    {
     "data": {
      "text/plain": [
       "86.66666666666667"
      ]
     },
     "execution_count": 7,
     "metadata": {},
     "output_type": "execute_result"
    }
   ],
   "source": [
    "correct=0\n",
    "for i,row in test.iterrows():\n",
    "    pred = t.root.predict(row)\n",
    "    actual = row['species']\n",
    "    if actual == pred:\n",
    "        correct += 1\n",
    "        print(row[0:4])\n",
    "        print(\"Predicted: \" + pred + \" | Actual: \" + actual)\n",
    "correct/len(test)*100"
   ]
  },
  {
   "cell_type": "code",
   "execution_count": 8,
   "metadata": {
    "colab": {
     "base_uri": "https://localhost:8080/"
    },
    "id": "S2_xBvunx_Uc",
    "outputId": "7b93bc30-64f1-44a5-98ae-5bac07901e99"
   },
   "outputs": [
    {
     "name": "stdout",
     "output_type": "stream",
     "text": [
      "\n",
      " If petal length (cm) > 1.9 is (True) and If petal length (cm) > 4.7 is (False) and If sepal length (cm) > 4.9 is (True) , Then flower is: versicolor\n",
      "\n",
      " If petal length (cm) > 1.9 is (True) and If petal length (cm) > 4.7 is (False) and If sepal length (cm) > 4.9 is (False) , Then flower is: virginica\n",
      "\n",
      " If petal length (cm) > 1.9 is (True) and If petal length (cm) > 4.7 is (True) and If petal length (cm) > 5.1 is (True) , Then flower is: virginica\n",
      "\n",
      " If petal length (cm) > 1.9 is (True) and If petal length (cm) > 4.7 is (True) and If petal length (cm) > 5.1 is (False) and If petal width (cm) > 1.6 is (True) and If sepal width (cm) > 3.1 is (False) , Then flower is: virginica\n",
      "\n",
      " If petal length (cm) > 1.9 is (True) and If petal length (cm) > 4.7 is (True) and If petal length (cm) > 5.1 is (False) and If petal width (cm) > 1.6 is (True) and If sepal width (cm) > 3.1 is (True) , Then flower is: versicolor\n",
      "\n",
      " If petal length (cm) > 1.9 is (True) and If petal length (cm) > 4.7 is (True) and If petal length (cm) > 5.1 is (False) and If petal width (cm) > 1.6 is (False) and If sepal length (cm) > 6.3 is (True) , Then flower is: versicolor\n",
      "\n",
      " If petal length (cm) > 1.9 is (True) and If petal length (cm) > 4.7 is (True) and If petal length (cm) > 5.1 is (False) and If petal width (cm) > 1.6 is (False) and If sepal length (cm) > 6.3 is (False) and If petal width (cm) > 1.5 is (True) , Then flower is: versicolor\n",
      "\n",
      " If petal length (cm) > 1.9 is (True) and If petal length (cm) > 4.7 is (True) and If petal length (cm) > 5.1 is (False) and If petal width (cm) > 1.6 is (False) and If sepal length (cm) > 6.3 is (False) and If petal width (cm) > 1.5 is (False) , Then flower is: virginica\n",
      "\n",
      " If petal length (cm) > 1.9 is (False) , Then flower is: setosa\n"
     ]
    }
   ],
   "source": [
    "t.root.print('\\n')"
   ]
  },
  {
   "cell_type": "markdown",
   "metadata": {
    "id": "-6P8leGjteZk"
   },
   "source": [
    "# ID3 by sciket learn"
   ]
  },
  {
   "cell_type": "code",
   "execution_count": 9,
   "metadata": {
    "id": "GKfYWxYf3wtL"
   },
   "outputs": [],
   "source": [
    "from sklearn.tree import DecisionTreeClassifier, plot_tree\n",
    "from sklearn.datasets import load_iris"
   ]
  },
  {
   "cell_type": "code",
   "execution_count": 10,
   "metadata": {
    "id": "ht9VJvle4raf"
   },
   "outputs": [],
   "source": [
    "iris = load_iris()"
   ]
  },
  {
   "cell_type": "code",
   "execution_count": 11,
   "metadata": {
    "id": "7YShxhLVCHUC"
   },
   "outputs": [],
   "source": [
    "X= train.iloc[:,0:3] \n",
    "y=train.iloc[:,4]"
   ]
  },
  {
   "cell_type": "code",
   "execution_count": 12,
   "metadata": {
    "id": "DoIjwnhdCUME"
   },
   "outputs": [],
   "source": [
    "model = DecisionTreeClassifier(criterion='entropy').fit(X, y)"
   ]
  },
  {
   "cell_type": "code",
   "execution_count": 13,
   "metadata": {
    "colab": {
     "base_uri": "https://localhost:8080/",
     "height": 575
    },
    "id": "P-yvjbPFCXO4",
    "outputId": "b7f5daf1-aba3-4342-89ee-95db00a0c076"
   },
   "outputs": [
    {
     "data": {
      "image/png": "[encoded data removed]",
      "text/plain": [
       "<Figure size 720x720 with 1 Axes>"
      ]
     },
     "metadata": {
      "needs_background": "light"
     },
     "output_type": "display_data"
    }
   ],
   "source": [
    "import matplotlib.pyplot as plt\n",
    "plt.figure(figsize=(10,10))\n",
    "plot_tree(model,filled=True,feature_names=['S len','s wid','p len','p wid'])\n",
    "plt.show()"
   ]
  },
  {
   "cell_type": "code",
   "execution_count": 14,
   "metadata": {
    "colab": {
     "base_uri": "https://localhost:8080/"
    },
    "id": "xIX29Pi-FJli",
    "outputId": "41587034-e753-4a97-a529-d6af01961cad"
   },
   "outputs": [
    {
     "data": {
      "text/plain": [
       "array(['virginica', 'virginica', 'virginica', 'versicolor', 'versicolor',\n",
       "       'virginica', 'virginica', 'versicolor', 'versicolor', 'virginica',\n",
       "       'setosa', 'setosa', 'setosa', 'setosa', 'setosa', 'versicolor',\n",
       "       'setosa', 'virginica', 'virginica', 'setosa', 'versicolor',\n",
       "       'versicolor', 'setosa', 'setosa', 'virginica', 'setosa',\n",
       "       'virginica', 'virginica', 'versicolor', 'setosa'], dtype=object)"
      ]
     },
     "execution_count": 14,
     "metadata": {},
     "output_type": "execute_result"
    }
   ],
   "source": [
    "p=model.predict(test.iloc[:,0:3])\n",
    "p"
   ]
  },
  {
   "cell_type": "code",
   "execution_count": 15,
   "metadata": {
    "colab": {
     "base_uri": "https://localhost:8080/"
    },
    "id": "YFg8kqD0GakO",
    "outputId": "c2fff579-1c15-4691-f620-e0a217353a05"
   },
   "outputs": [
    {
     "data": {
      "text/plain": [
       "90.0"
      ]
     },
     "execution_count": 15,
     "metadata": {},
     "output_type": "execute_result"
    }
   ],
   "source": [
    "model.score(test.iloc[:,0:3],test.iloc[:,-1])*100"
   ]
  },
  {
   "cell_type": "markdown",
   "metadata": {
    "id": "6DFSR3mLIP-I"
   },
   "source": [
    "## We observe that Sciket module has 93.33 % accuracy on test data, if we compare with ID3 scratch accuracy value it is 96.67% . ~3.3 %\n"
   ]
  }
 ],
 "metadata": {
  "colab": {
   "collapsed_sections": [],
   "name": "MLlab5.ipynb",
   "provenance": []
  },
  "kernelspec": {
   "display_name": "Python 3",
   "language": "python",
   "name": "python3"
  },
  "language_info": {
   "codemirror_mode": {
    "name": "ipython",
    "version": 3
   },
   "file_extension": ".py",
   "mimetype": "text/x-python",
   "name": "python",
   "nbconvert_exporter": "python",
   "pygments_lexer": "ipython3",
   "version": "3.8.5"
  }
 },
 "nbformat": 4,
 "nbformat_minor": 1
}
